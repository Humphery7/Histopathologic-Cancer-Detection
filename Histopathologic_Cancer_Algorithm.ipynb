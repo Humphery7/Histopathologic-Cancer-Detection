{
 "cells": [
  {
   "cell_type": "code",
   "execution_count": null,
   "metadata": {
    "_cell_guid": "b1076dfc-b9ad-4769-8c92-a6c4dae69d19",
    "_kg_hide-output": true,
    "_uuid": "8f2839f25d086af736a60e9eeb907d3b93b6e0e5",
    "execution": {
     "iopub.execute_input": "2023-08-25T14:07:24.587711Z",
     "iopub.status.busy": "2023-08-25T14:07:24.587307Z",
     "iopub.status.idle": "2023-08-25T14:13:35.609215Z",
     "shell.execute_reply": "2023-08-25T14:13:35.608214Z",
     "shell.execute_reply.started": "2023-08-25T14:07:24.587681Z"
    }
   },
   "outputs": [],
   "source": [
    "# This Python 3 environment comes with many helpful analytics libraries installed\n",
    "# It is defined by the kaggle/python Docker image: https://github.com/kaggle/docker-python\n",
    "# For example, here's several helpful packages to load\n",
    "\n",
    "import numpy as np # linear algebra\n",
    "import pandas as pd # data processing, CSV file I/O (e.g. pd.read_csv)\n",
    "\n",
    "# Inp*ut data files are available in the read-only \"../input/\" directory\n",
    "# For example, running this (by clicking run or pressing Shift+Enter) will list all files under the input directory\n",
    "\n",
    "import os\n",
    "for dirname, _, filenames in os.walk('/kaggle/input'):\n",
    "    for filename in filenames:\n",
    "        print(os.path.join(dirname, filename))\n",
    "\n",
    "# You can write up to 20GB to the current directory (/kaggle/working/) that gets preserved as output when you create a version using \"Save & Run All\" \n",
    "# You can also write temporary files to /kaggle/temp/, but they won't be saved outside of the current session"
   ]
  },
  {
   "cell_type": "code",
   "execution_count": null,
   "metadata": {
    "execution": {
     "iopub.execute_input": "2023-08-25T14:15:10.265578Z",
     "iopub.status.busy": "2023-08-25T14:15:10.265189Z",
     "iopub.status.idle": "2023-08-25T14:15:21.213044Z",
     "shell.execute_reply": "2023-08-25T14:15:21.211722Z",
     "shell.execute_reply.started": "2023-08-25T14:15:10.265548Z"
    }
   },
   "outputs": [],
   "source": [
    "#IMPORTING LIBRARIES\n",
    "\n",
    "import seaborn as sns\n",
    "import matplotlib.pyplot as plt \n",
    "from PIL import Image\n",
    "import tensorflow as tf\n",
    "from tensorflow import keras\n",
    "from keras.preprocessing.image import ImageDataGenerator\n",
    "from keras import layers\n",
    "from keras.models import Sequential\n",
    "import cv2\n",
    "import os\n",
    "import warnings\n",
    "warnings.filterwarnings(\"ignore\")"
   ]
  },
  {
   "cell_type": "code",
   "execution_count": null,
   "metadata": {
    "execution": {
     "iopub.execute_input": "2023-08-25T14:15:21.216540Z",
     "iopub.status.busy": "2023-08-25T14:15:21.215334Z",
     "iopub.status.idle": "2023-08-25T14:15:21.916966Z",
     "shell.execute_reply": "2023-08-25T14:15:21.915803Z",
     "shell.execute_reply.started": "2023-08-25T14:15:21.216493Z"
    }
   },
   "outputs": [],
   "source": [
    "#A VIEW OF THE TRAIN TABLE CONTAINNIG THE LABELS\n",
    "\n",
    "train_df = pd.read_csv(\"//kaggle/input/histopathologic-cancer-detection/train_labels.csv\")\n",
    "train_df"
   ]
  },
  {
   "cell_type": "code",
   "execution_count": null,
   "metadata": {
    "execution": {
     "iopub.execute_input": "2023-08-22T21:54:28.537334Z",
     "iopub.status.busy": "2023-08-22T21:54:28.536900Z",
     "iopub.status.idle": "2023-08-22T21:54:28.843442Z",
     "shell.execute_reply": "2023-08-22T21:54:28.841794Z",
     "shell.execute_reply.started": "2023-08-22T21:54:28.537295Z"
    }
   },
   "outputs": [],
   "source": [
    "sns.countplot(x='label',data=train_df)"
   ]
  },
  {
   "cell_type": "markdown",
   "metadata": {},
   "source": [
    "Balanced Data"
   ]
  },
  {
   "cell_type": "code",
   "execution_count": null,
   "metadata": {
    "execution": {
     "iopub.execute_input": "2023-08-24T08:50:13.738589Z",
     "iopub.status.busy": "2023-08-24T08:50:13.737954Z",
     "iopub.status.idle": "2023-08-24T08:50:15.100435Z",
     "shell.execute_reply": "2023-08-24T08:50:15.098943Z",
     "shell.execute_reply.started": "2023-08-24T08:50:13.738549Z"
    }
   },
   "outputs": [],
   "source": [
    "#Viewing Images\n",
    "\n",
    "def plot_image(label,title):\n",
    "    fig, ax = plt.subplots(1,4,figsize=(10,10))\n",
    "    \n",
    "    for num,axis in enumerate(ax.flat):\n",
    "        path = \"/kaggle/input/histopathologic-cancer-detection/train/\" + train_df[train_df['label']==label].reset_index(drop=True).id[num]+\".tif\"\n",
    "        image = plt.imread(path)\n",
    "        axis.imshow(image)\n",
    "    plt.title(title,loc=\"center\")\n",
    "    plt.show()\n",
    "        \n",
    "plot_image(1,\"Positive Cases\")\n",
    "plot_image(0,\"Negative Cases\")"
   ]
  },
  {
   "cell_type": "code",
   "execution_count": null,
   "metadata": {
    "execution": {
     "iopub.execute_input": "2023-08-23T15:48:45.586926Z",
     "iopub.status.busy": "2023-08-23T15:48:45.586551Z",
     "iopub.status.idle": "2023-08-23T15:48:45.681589Z",
     "shell.execute_reply": "2023-08-23T15:48:45.680407Z",
     "shell.execute_reply.started": "2023-08-23T15:48:45.586897Z"
    }
   },
   "outputs": [],
   "source": [
    "# Checking the resolution and contrast of a random subset of images\n",
    "image_paths = train_df['id'].sample(5).apply(lambda x: f'../input/histopathologic-cancer-detection/train/{x}.tif').tolist()\n",
    "\n",
    "for img_path in image_paths:\n",
    "    img = cv2.imread(img_path)\n",
    "    img_rgb = cv2.cvtColor(img, cv2.COLOR_BGR2RGB)\n",
    "    \n",
    "    # Displaying image details\n",
    "    print(f\"Image: {img_path.split('/')[-1]}\")\n",
    "    print(f\"Resolution: {img.shape[0]}x{img.shape[1]}\")\n",
    "    print(f\"Contrast (max-min pixel values): {np.max(img_rgb) - np.min(img_rgb)}\\n\")"
   ]
  },
  {
   "cell_type": "code",
   "execution_count": null,
   "metadata": {
    "execution": {
     "iopub.execute_input": "2023-08-23T16:07:43.513905Z",
     "iopub.status.busy": "2023-08-23T16:07:43.513446Z",
     "iopub.status.idle": "2023-08-23T16:07:43.565796Z",
     "shell.execute_reply": "2023-08-23T16:07:43.564303Z",
     "shell.execute_reply.started": "2023-08-23T16:07:43.513872Z"
    }
   },
   "outputs": [],
   "source": [
    "train_df.isna().sum()"
   ]
  },
  {
   "cell_type": "code",
   "execution_count": null,
   "metadata": {
    "execution": {
     "iopub.execute_input": "2023-08-25T14:15:40.003357Z",
     "iopub.status.busy": "2023-08-25T14:15:40.002935Z",
     "iopub.status.idle": "2023-08-25T14:15:40.010732Z",
     "shell.execute_reply": "2023-08-25T14:15:40.009751Z",
     "shell.execute_reply.started": "2023-08-25T14:15:40.003319Z"
    }
   },
   "outputs": [],
   "source": [
    "#No need to resize image, but function to resize is ...\n",
    "\n",
    "from tensorflow.keras.preprocessing.image import load_img,img_to_array\n",
    "\n",
    "IMG_WIDTH = 96\n",
    "IMG_HEIGHT = 96\n",
    "BATCH_SIZE = 64\n",
    "\n",
    "def resize_image(image_path,target_width=IMG_WIDTH,target_height=IMG_HEIGHT):\n",
    "    image = load_img(image_path,target_size=(target_width,target_height))\n",
    "    return img_to_array(image)"
   ]
  },
  {
   "cell_type": "code",
   "execution_count": null,
   "metadata": {
    "execution": {
     "iopub.execute_input": "2023-08-25T14:20:27.884258Z",
     "iopub.status.busy": "2023-08-25T14:20:27.882848Z",
     "iopub.status.idle": "2023-08-25T14:20:28.545844Z",
     "shell.execute_reply": "2023-08-25T14:20:28.544716Z",
     "shell.execute_reply.started": "2023-08-25T14:20:27.884213Z"
    }
   },
   "outputs": [],
   "source": [
    "#Splitting Data Into Train And Validation Sets\n",
    "\n",
    "\n",
    "from sklearn.model_selection import train_test_split\n",
    "\n",
    "\n",
    "train_df['label'] = train_df['label'].astype(str)\n",
    "train_df['id'] = train_df['id'].apply(lambda x : f'{x}.tif')\n",
    "\n",
    "train_set, val_set = train_test_split(train_df,test_size=0.1,random_state=0,stratify=train_df.label)\n",
    "\n",
    "train_datagen = ImageDataGenerator(rescale = 1.0/255.0,zoom_range=0.4,brightness_range=(-2.0,2.0),\n",
    "                             horizontal_flip=True,vertical_flip=True,rotation_range=20,\n",
    "                             data_format=\"channels_last\",width_shift_range=0.2,\n",
    "                             height_shift_range=0.2)\n",
    "\n",
    "val_datagen = ImageDataGenerator(rescale=1./255)"
   ]
  },
  {
   "cell_type": "code",
   "execution_count": null,
   "metadata": {
    "execution": {
     "iopub.execute_input": "2023-08-25T14:16:52.950572Z",
     "iopub.status.busy": "2023-08-25T14:16:52.950134Z",
     "iopub.status.idle": "2023-08-25T14:16:52.966242Z",
     "shell.execute_reply": "2023-08-25T14:16:52.964920Z",
     "shell.execute_reply.started": "2023-08-25T14:16:52.950536Z"
    }
   },
   "outputs": [],
   "source": [
    "val_set.label.value_counts()"
   ]
  },
  {
   "cell_type": "code",
   "execution_count": null,
   "metadata": {
    "execution": {
     "iopub.execute_input": "2023-08-25T14:21:26.438712Z",
     "iopub.status.busy": "2023-08-25T14:21:26.437801Z",
     "iopub.status.idle": "2023-08-25T14:21:26.446040Z",
     "shell.execute_reply": "2023-08-25T14:21:26.444917Z",
     "shell.execute_reply.started": "2023-08-25T14:21:26.438666Z"
    }
   },
   "outputs": [],
   "source": [
    "train_set.id.iloc[0]"
   ]
  },
  {
   "cell_type": "code",
   "execution_count": null,
   "metadata": {
    "execution": {
     "iopub.execute_input": "2023-08-25T14:24:37.665660Z",
     "iopub.status.busy": "2023-08-25T14:24:37.665272Z",
     "iopub.status.idle": "2023-08-25T14:26:28.334387Z",
     "shell.execute_reply": "2023-08-25T14:26:28.333297Z",
     "shell.execute_reply.started": "2023-08-25T14:24:37.665631Z"
    }
   },
   "outputs": [],
   "source": [
    "#Loading Images To Create Train And Validation Generators\n",
    "\n",
    "\n",
    "train_gen = train_datagen.flow_from_dataframe(directory=\"/kaggle/input/histopathologic-cancer-detection/train\",\n",
    "                                        dataframe=train_set,\n",
    "                                       target_size=(IMG_WIDTH,IMG_HEIGHT),\n",
    "                                       color_mode = \"grayscale\",\n",
    "                                       x_col=\"id\",\n",
    "                                       y_col=\"label\",\n",
    "                                       batch_size=BATCH_SIZE,\n",
    "                                       subset=\"training\",\n",
    "                                       class_mode=\"binary\")\n",
    "\n",
    "\n",
    "val_gen = val_datagen.flow_from_dataframe(dataframe=val_set,\n",
    "                                        directory=\"/kaggle/input/histopathologic-cancer-detection/train\",\n",
    "                                       target_size=(IMG_WIDTH,IMG_HEIGHT),\n",
    "                                       color_mode = \"grayscale\",\n",
    "                                       x_col=\"id\",\n",
    "                                       y_col=\"label\",\n",
    "                                       batch_size=BATCH_SIZE,\n",
    "                                       class_mode=\"binary\",\n",
    "                                      seed=123)"
   ]
  },
  {
   "cell_type": "code",
   "execution_count": null,
   "metadata": {
    "execution": {
     "iopub.execute_input": "2023-08-25T14:47:07.668495Z",
     "iopub.status.busy": "2023-08-25T14:47:07.668084Z",
     "iopub.status.idle": "2023-08-25T14:47:07.890996Z",
     "shell.execute_reply": "2023-08-25T14:47:07.889803Z",
     "shell.execute_reply.started": "2023-08-25T14:47:07.668462Z"
    }
   },
   "outputs": [],
   "source": [
    "#Model Creation Using Tensorflow Sequential API\n",
    "\n",
    "model = Sequential([\n",
    "        keras.Input(shape=(IMG_WIDTH,IMG_HEIGHT,1)),\n",
    "        layers.Conv2D(filters=128,kernel_size=3,padding=\"valid\",kernel_initializer=\"he_uniform\",activation=\"relu\"),\n",
    "        layers.MaxPooling2D(pool_size=(2,2),strides=2),\n",
    "        layers.Conv2D(filters=128,kernel_size=2,padding=\"valid\",kernel_initializer=\"he_uniform\",activation=\"relu\"),\n",
    "        layers.MaxPooling2D(pool_size=(2,2),strides=2),\n",
    "        layers.Conv2D(filters=256,kernel_size=3,padding=\"valid\",kernel_initializer=\"he_uniform\",activation=\"relu\"),\n",
    "        layers.MaxPooling2D(pool_size=(3,3),strides=3),\n",
    "        layers.Flatten(),\n",
    "        layers.Dense(1000,activation=\"relu\"),\n",
    "        layers.Dense(512,activation=\"relu\"),\n",
    "        layers.Dense(1,activation=\"sigmoid\")\n",
    "])"
   ]
  },
  {
   "cell_type": "code",
   "execution_count": null,
   "metadata": {
    "execution": {
     "iopub.execute_input": "2023-08-25T14:47:09.762705Z",
     "iopub.status.busy": "2023-08-25T14:47:09.761735Z",
     "iopub.status.idle": "2023-08-25T14:47:09.784693Z",
     "shell.execute_reply": "2023-08-25T14:47:09.783488Z",
     "shell.execute_reply.started": "2023-08-25T14:47:09.762663Z"
    }
   },
   "outputs": [],
   "source": [
    "#Setting Metrics, Optimizer Function And Loss Function\n",
    "\n",
    "model.compile(loss=keras.losses.BinaryCrossentropy(from_logits=True),optimizer=keras.optimizers.Adam(),metrics=[keras.metrics.AUC()])"
   ]
  },
  {
   "cell_type": "code",
   "execution_count": null,
   "metadata": {
    "execution": {
     "iopub.execute_input": "2023-08-25T14:47:11.037684Z",
     "iopub.status.busy": "2023-08-25T14:47:11.037261Z",
     "iopub.status.idle": "2023-08-25T14:51:09.552499Z",
     "shell.execute_reply": "2023-08-25T14:51:09.550779Z",
     "shell.execute_reply.started": "2023-08-25T14:47:11.037651Z"
    }
   },
   "outputs": [],
   "source": [
    "#Begin Training\n",
    "\n",
    "history = model.fit(train_gen,validation_data=val_gen,epochs=10,verbose=True)"
   ]
  },
  {
   "cell_type": "code",
   "execution_count": null,
   "metadata": {
    "execution": {
     "iopub.execute_input": "2023-08-25T14:53:35.837877Z",
     "iopub.status.busy": "2023-08-25T14:53:35.837430Z",
     "iopub.status.idle": "2023-08-25T14:54:31.022580Z",
     "shell.execute_reply": "2023-08-25T14:54:31.020759Z",
     "shell.execute_reply.started": "2023-08-25T14:53:35.837844Z"
    }
   },
   "outputs": [],
   "source": [
    "#Custom Training Loops- Let's Have More Control On THe Training Process\n",
    "\n",
    "num_epochs = 10\n",
    "optimizer = keras.optimizers.Adam()\n",
    "loss_fn = keras.losses.BinaryCrossentropy(from_logits=True)\n",
    "train_metric = keras.metrics.AUC()\n",
    "val_metric = keras.metrics.AUC()\n",
    "\n",
    "for epoch in range(num_epochs):\n",
    "    print(f\"\\n Start Of Training Epoch {epoch}\")\n",
    "    for batch_idx,(x_batch,y_batch) in enumerate(train_gen):\n",
    "        with tf.GradientTape() as tape:\n",
    "            y_pred = model(x_batch,training=True)\n",
    "            loss = loss_fn(y_batch.reshape(-1,1),y_pred)\n",
    "            \n",
    "        gradients = tape.gradient(loss,model.trainable_weights)\n",
    "        optimizer.apply_gradients(zip(gradients,model.trainable_weights))\n",
    "        train_metric.update_state(y_batch,y_pred)\n",
    "        print(train_metric.result())\n",
    "        \n",
    "    train_auc = train_metric.result()\n",
    "    train_metric.reset_state()\n",
    "    print(f\"AUC over epoch {train_auc}\")"
   ]
  },
  {
   "cell_type": "code",
   "execution_count": null,
   "metadata": {},
   "outputs": [],
   "source": [
    "for batch_idx, (x_batch_val, y_batch_val) in enumerate(val_gen):\n",
    "    val_pred = model(x_batch_val, training=False)\n",
    "    val_metric.update_state(y_batch_val, val_pred)\n",
    "\n",
    "val_auc = val_metric.result()\n",
    "val_metric.reset_states()\n",
    "print(f\"AUC over val_set {val_auc}\")"
   ]
  },
  {
   "cell_type": "code",
   "execution_count": null,
   "metadata": {},
   "outputs": [],
   "source": [
    "#Plotting Trainnig/Validation Loss and Accuracy"
   ]
  },
  {
   "cell_type": "code",
   "execution_count": null,
   "metadata": {},
   "outputs": [],
   "source": []
  }
 ],
 "metadata": {
  "kernelspec": {
   "display_name": "Python 3 (ipykernel)",
   "language": "python",
   "name": "python3"
  },
  "language_info": {
   "codemirror_mode": {
    "name": "ipython",
    "version": 3
   },
   "file_extension": ".py",
   "mimetype": "text/x-python",
   "name": "python",
   "nbconvert_exporter": "python",
   "pygments_lexer": "ipython3",
   "version": "3.9.12"
  }
 },
 "nbformat": 4,
 "nbformat_minor": 4
}
